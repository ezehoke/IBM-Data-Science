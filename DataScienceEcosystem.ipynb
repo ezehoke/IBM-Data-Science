{
 "cells": [
  {
   "cell_type": "markdown",
   "id": "1a7e7bc6-c63f-4469-bdb8-46e1e3d8baa2",
   "metadata": {},
   "source": [
    "# Data Science Tools and Ecosystem"
   ]
  },
  {
   "cell_type": "markdown",
   "id": "52016126-1421-4ec2-a51a-83a0d8377a02",
   "metadata": {},
   "source": [
    "In this notebook, Data Science Tools and Ecosystem are summarized."
   ]
  },
  {
   "cell_type": "markdown",
   "id": "643fd071-c09f-4a98-aecd-660852b96506",
   "metadata": {},
   "source": [
    "**Objectives:**\n",
    "\n",
    "In this lesson, you will be able to, \n",
    "* List popular languages for data science.\n",
    "* Mention commonly used libraries in data science.\n",
    "* List open source tools for data science.\n",
    "* Perform simple arithmetrics using python."
   ]
  },
  {
   "cell_type": "markdown",
   "id": "0cf82c88-1481-4464-8084-1c5fe7f01043",
   "metadata": {},
   "source": [
    "Some of the popular languages that Data Scientists use are:"
   ]
  },
  {
   "cell_type": "markdown",
   "id": "9e19d3fb-2a80-4e9b-ab59-563b95cd38bb",
   "metadata": {},
   "source": [
    "1. Python\n",
    "2. R\n",
    "3. Julia"
   ]
  },
  {
   "cell_type": "markdown",
   "id": "3ab01ae3-5ef9-4016-9a0f-55a46871b881",
   "metadata": {},
   "source": [
    "Some of the commonly used libraries used by Data Scientists include:\n",
    "1. ggplot\n",
    "2. TensorFlow\n",
    "3. Pandas\n",
    "4. NumPy\n",
    "5. Lattice"
   ]
  },
  {
   "cell_type": "markdown",
   "id": "f9423775-30a4-4a9b-a7fa-d15fb592092e",
   "metadata": {},
   "source": [
    "| Data Science Tools |\n",
    "| ------------------ |\n",
    "| Hadoop |\n",
    "| Apache Airflow |\n",
    "| PixieDust |\n",
    "| Kubernetes |"
   ]
  },
  {
   "cell_type": "markdown",
   "id": "572b556f-0d70-423c-9f84-265c89abf0ba",
   "metadata": {},
   "source": [
    "### Below are a few examples of evaluating arithmetic expressions in Python"
   ]
  },
  {
   "cell_type": "code",
   "execution_count": 8,
   "id": "0af509f3-7654-4971-ac3b-5916710513a1",
   "metadata": {},
   "outputs": [
    {
     "data": {
      "text/plain": [
       "17"
      ]
     },
     "execution_count": 8,
     "metadata": {},
     "output_type": "execute_result"
    }
   ],
   "source": [
    "# This a simple arithmetic expression to mutiply then add integers\n",
    "\n",
    "(3*4)+5"
   ]
  },
  {
   "cell_type": "code",
   "execution_count": 9,
   "id": "90dd5ea8-ad4a-4c40-8a95-df61c73e594e",
   "metadata": {},
   "outputs": [
    {
     "name": "stdout",
     "output_type": "stream",
     "text": [
      "3.3333333333333335 hours\n"
     ]
    }
   ],
   "source": [
    "# This will convert 200 minutes to hours by diving by 60\n",
    "x=200/60\n",
    "print(x,\"hours\")"
   ]
  },
  {
   "cell_type": "markdown",
   "id": "55039567-3e3f-41dd-bfc4-d731bac9d064",
   "metadata": {},
   "source": [
    "## Author\n",
    "\n",
    "Okechukwu Ezeh"
   ]
  },
  {
   "cell_type": "code",
   "execution_count": null,
   "id": "75e59a04-1087-4e51-af6a-d7badd62f949",
   "metadata": {},
   "outputs": [],
   "source": []
  }
 ],
 "metadata": {
  "kernelspec": {
   "display_name": "Python 3 (ipykernel)",
   "language": "python",
   "name": "python3"
  },
  "language_info": {
   "codemirror_mode": {
    "name": "ipython",
    "version": 3
   },
   "file_extension": ".py",
   "mimetype": "text/x-python",
   "name": "python",
   "nbconvert_exporter": "python",
   "pygments_lexer": "ipython3",
   "version": "3.13.2"
  }
 },
 "nbformat": 4,
 "nbformat_minor": 5
}
